{
 "cells": [
  {
   "cell_type": "code",
   "execution_count": 1,
   "metadata": {},
   "outputs": [
    {
     "name": "stdout",
     "output_type": "stream",
     "text": [
      "REmote Incubator\n"
     ]
    }
   ],
   "source": [
    "print(\"REmote Incubator\")"
   ]
  },
  {
   "cell_type": "code",
   "execution_count": 2,
   "metadata": {},
   "outputs": [],
   "source": [
    "import requests"
   ]
  },
  {
   "cell_type": "markdown",
   "metadata": {},
   "source": [
    "# Table: user & login (POST HTTP service)"
   ]
  },
  {
   "cell_type": "code",
   "execution_count": 4,
   "metadata": {},
   "outputs": [
    {
     "name": "stdout",
     "output_type": "stream",
     "text": [
      "<bound method Response.json of <Response [500]>>\n"
     ]
    }
   ],
   "source": [
    "# Insertion into database (user table and login table)\n",
    "data = {'name':\"jacky\",\"p\":\"ioahsdo\",\"contact\":4329,\"email\":\"hbrd@gmail.com\",\"com\":\"fametronix\",\"d\":\"ml\",\"w\":\"because\",\"addr\":\"bokaro\"}\n",
    "res = requests.post(url='http://localhost:5000/api/v1/incubator/resources/user/registration/create',json=data)\n",
    "print(res.json)"
   ]
  },
  {
   "cell_type": "markdown",
   "metadata": {},
   "source": [
    "# Table: user & login (PUT HTTP service)"
   ]
  },
  {
   "cell_type": "code",
   "execution_count": 9,
   "metadata": {},
   "outputs": [
    {
     "data": {
      "text/plain": [
       "<bound method Response.json of <Response [200]>>"
      ]
     },
     "execution_count": 9,
     "metadata": {},
     "output_type": "execute_result"
    }
   ],
   "source": [
    "# Update password\n",
    "data = {'psd':'mypassword'}\n",
    "emailID = 'hbrd@gmail.com'\n",
    "uri_update_psd = 'http://localhost:5000/api/v1/incubator/resources/user/registration/update/'\n",
    "res = requests.put(url=uri_update_psd+emailID, json=data)\n",
    "res.json"
   ]
  },
  {
   "cell_type": "markdown",
   "metadata": {},
   "source": [
    "# Table: user & login (DELETE HTTP service)"
   ]
  },
  {
   "cell_type": "code",
   "execution_count": 100,
   "metadata": {},
   "outputs": [
    {
     "data": {
      "text/plain": [
       "<bound method Response.json of <Response [404]>>"
      ]
     },
     "execution_count": 100,
     "metadata": {},
     "output_type": "execute_result"
    }
   ],
   "source": [
    "url_user_del = 'http://localhost:5000/api/v1/incubator/resources/user/registration/delete/user/'\n",
    "mailid = 'hbrd@gmail.com'\n",
    "res = requests.delete(url=url_user_del+mailid)\n",
    "res.json"
   ]
  },
  {
   "cell_type": "markdown",
   "metadata": {},
   "source": [
    "# Table: user & login (GET HTTP service)"
   ]
  },
  {
   "cell_type": "code",
   "execution_count": null,
   "metadata": {},
   "outputs": [],
   "source": []
  },
  {
   "cell_type": "markdown",
   "metadata": {},
   "source": [
    "# Table: document (POST HTTP service)"
   ]
  },
  {
   "cell_type": "code",
   "execution_count": 30,
   "metadata": {},
   "outputs": [
    {
     "data": {
      "text/plain": [
       "<bound method Response.json of <Response [200]>>"
      ]
     },
     "execution_count": 30,
     "metadata": {},
     "output_type": "execute_result"
    }
   ],
   "source": [
    "# table: document (insert)\n",
    "url_doc_insert = 'http://localhost:5000/api/v1/incubator/resources/document/insert'\n",
    "data = {'video_name':'abc.mp4', 'doc':'.assests/doc/imp/abcpdf.pdf'}\n",
    "res = requests.post(url=url_doc_insert, json=data)\n",
    "res.json"
   ]
  },
  {
   "cell_type": "markdown",
   "metadata": {},
   "source": [
    "# Table: document (PUT HTTP service)"
   ]
  },
  {
   "cell_type": "code",
   "execution_count": 21,
   "metadata": {},
   "outputs": [
    {
     "data": {
      "text/plain": [
       "<bound method Response.json of <Response [200]>>"
      ]
     },
     "execution_count": 21,
     "metadata": {},
     "output_type": "execute_result"
    }
   ],
   "source": [
    "# table: document (update)\n",
    "url_doc_update = 'http://localhost:5000/api/v1/incubator/resources/document/update'\n",
    "data = {'video_name':'jgas.mp4', 'doc_path':'.assests/doc/imp/my_doc.pdf'}\n",
    "res =requests.put(url=url_doc_update, json=data)\n",
    "res.json"
   ]
  },
  {
   "cell_type": "markdown",
   "metadata": {},
   "source": [
    "# Table: document (DELETE HTTP service)"
   ]
  },
  {
   "cell_type": "code",
   "execution_count": 31,
   "metadata": {},
   "outputs": [
    {
     "data": {
      "text/plain": [
       "<bound method Response.json of <Response [200]>>"
      ]
     },
     "execution_count": 31,
     "metadata": {},
     "output_type": "execute_result"
    }
   ],
   "source": [
    "url_doc_del = 'http://localhost:5000/api/v1/incubator/resources/document/delete/'\n",
    "video_name = 'abc.mp4'\n",
    "res = requests.delete(url=url_doc_del+video_name)\n",
    "res.json"
   ]
  },
  {
   "cell_type": "markdown",
   "metadata": {},
   "source": [
    "# Table: document (GET HTTP service)"
   ]
  },
  {
   "cell_type": "code",
   "execution_count": 32,
   "metadata": {},
   "outputs": [
    {
     "data": {
      "text/plain": [
       "<bound method Response.json of <Response [200]>>"
      ]
     },
     "execution_count": 32,
     "metadata": {},
     "output_type": "execute_result"
    }
   ],
   "source": [
    "url_doc_read = 'http://localhost:5000/api/v1/incubator/resources/document/read'\n",
    "res = requests.get(url=url_doc_read)\n",
    "res.json"
   ]
  },
  {
   "cell_type": "code",
   "execution_count": 33,
   "metadata": {},
   "outputs": [
    {
     "data": {
      "text/plain": [
       "[{'_sa_instance_state': '<sqlalchemy.orm.state.InstanceState object at 0x7f04a9ad0190>',\n",
       "  'document_path_url': '.assests/doc/imp/my_doc.pdf',\n",
       "  'id': 1,\n",
       "  'video_id': 2},\n",
       " {'_sa_instance_state': '<sqlalchemy.orm.state.InstanceState object at 0x7f04a9ad09d0>',\n",
       "  'document_path_url': '.assests/doc/imp/jgas.pdf',\n",
       "  'id': 4,\n",
       "  'video_id': 2}]"
      ]
     },
     "execution_count": 33,
     "metadata": {},
     "output_type": "execute_result"
    }
   ],
   "source": [
    "res.json()"
   ]
  },
  {
   "cell_type": "markdown",
   "metadata": {},
   "source": [
    "# Table: video (POST HTTP service)"
   ]
  },
  {
   "cell_type": "code",
   "execution_count": 34,
   "metadata": {},
   "outputs": [
    {
     "name": "stdout",
     "output_type": "stream",
     "text": [
      "<bound method Response.json of <Response [200]>>\n"
     ]
    }
   ],
   "source": [
    "# Insertion into database (video table and document table)\n",
    "uri = 'http://localhost:5000/api/v1/incubator/resources/video/create'\n",
    "data = {'video_name':'wed1.mp4',\n",
    "    'video_url':'.assests/video/wed1.mp4',\n",
    "    'description':'first testing',\n",
    "    'category':'logic'}\n",
    "res = requests.post(url=uri,json=data)\n",
    "print(res.json)"
   ]
  },
  {
   "cell_type": "markdown",
   "metadata": {},
   "source": [
    "# Table: video (PUT HTTP service)"
   ]
  },
  {
   "cell_type": "code",
   "execution_count": 39,
   "metadata": {},
   "outputs": [
    {
     "name": "stdout",
     "output_type": "stream",
     "text": [
      "<bound method Response.json of <Response [200]>>\n"
     ]
    }
   ],
   "source": [
    "uri_update = 'http://localhost:5000/api/v1/incubator/resources/video/update'\n",
    "data = {'category':'happy','description':'this is good','video_url':'.assests/video/wed1.mp4','video_name':'wed1.mp4'}\n",
    "res = requests.put(url=uri_update, json=data)\n",
    "print(res.json)"
   ]
  },
  {
   "cell_type": "markdown",
   "metadata": {},
   "source": [
    "# Table: video (DELETE HTTP service)"
   ]
  },
  {
   "cell_type": "code",
   "execution_count": 45,
   "metadata": {},
   "outputs": [
    {
     "data": {
      "text/plain": [
       "<bound method Response.json of <Response [200]>>"
      ]
     },
     "execution_count": 45,
     "metadata": {},
     "output_type": "execute_result"
    }
   ],
   "source": [
    "url_vid_delete = 'http://localhost:5000/api/v1/incubator/resources/video/delete/'\n",
    "video_id = '2'\n",
    "res = requests.delete(url=url_vid_delete+video_id)\n",
    "res.json"
   ]
  },
  {
   "cell_type": "markdown",
   "metadata": {},
   "source": [
    "# Table: video (GET HTTP service)"
   ]
  },
  {
   "cell_type": "code",
   "execution_count": 46,
   "metadata": {},
   "outputs": [
    {
     "data": {
      "text/plain": [
       "<bound method Response.json of <Response [200]>>"
      ]
     },
     "execution_count": 46,
     "metadata": {},
     "output_type": "execute_result"
    }
   ],
   "source": [
    "## get video table from database\n",
    "url_get_video = 'http://localhost:5000/api/v1/incubator/resources/video/read'\n",
    "res = requests.get(url=url_get_video)\n",
    "res.json"
   ]
  },
  {
   "cell_type": "code",
   "execution_count": 47,
   "metadata": {},
   "outputs": [
    {
     "data": {
      "text/plain": [
       "[{'_sa_instance_state': '<sqlalchemy.orm.state.InstanceState object at 0x7f6c8a9c4650>',\n",
       "  'category': 'funny',\n",
       "  'description': 'jiogajsd nuaensf iuiew',\n",
       "  'id': 3,\n",
       "  'video_name': 'abc.mp4',\n",
       "  'video_url': '.assests/video/jafids.mp4'},\n",
       " {'_sa_instance_state': '<sqlalchemy.orm.state.InstanceState object at 0x7f6c8a9c4f90>',\n",
       "  'category': 'funny',\n",
       "  'description': 'jiogajsd nuaensf iuiew',\n",
       "  'id': 4,\n",
       "  'video_name': 'xyz.mp4',\n",
       "  'video_url': '.assests/video/jafids.mp4'},\n",
       " {'_sa_instance_state': '<sqlalchemy.orm.state.InstanceState object at 0x7f6c8a9c6050>',\n",
       "  'category': 'funny',\n",
       "  'description': 'jiogajsd nuaensf iuiew',\n",
       "  'id': 5,\n",
       "  'video_name': 'lmn.mp4',\n",
       "  'video_url': '.assests/video/jafids.mp4'},\n",
       " {'_sa_instance_state': '<sqlalchemy.orm.state.InstanceState object at 0x7f6c8a9c60d0>',\n",
       "  'category': 'happy',\n",
       "  'description': 'this is good',\n",
       "  'id': 6,\n",
       "  'video_name': 'wed1.mp4',\n",
       "  'video_url': '.assests/video/wed1.mp4'}]"
      ]
     },
     "execution_count": 47,
     "metadata": {},
     "output_type": "execute_result"
    }
   ],
   "source": [
    "res.json()"
   ]
  },
  {
   "cell_type": "markdown",
   "metadata": {},
   "source": [
    "# Table: feedback (POST HTTP service)"
   ]
  },
  {
   "cell_type": "code",
   "execution_count": 60,
   "metadata": {},
   "outputs": [
    {
     "data": {
      "text/plain": [
       "<bound method Response.json of <Response [200]>>"
      ]
     },
     "execution_count": 60,
     "metadata": {},
     "output_type": "execute_result"
    }
   ],
   "source": [
    "url_fb_insert = 'http://localhost:5000/api/v1/incubator/resources/feedback/insert'\n",
    "data = {'user_id':2,'feedback':'feedback may be considered as to improve the system'}\n",
    "res = requests.post(url=url_fb_insert, json=data)\n",
    "res.json"
   ]
  },
  {
   "cell_type": "markdown",
   "metadata": {},
   "source": [
    "# Table: feedback (PUT HTTP service)"
   ]
  },
  {
   "cell_type": "code",
   "execution_count": 56,
   "metadata": {},
   "outputs": [
    {
     "data": {
      "text/plain": [
       "<bound method Response.json of <Response [200]>>"
      ]
     },
     "execution_count": 56,
     "metadata": {},
     "output_type": "execute_result"
    }
   ],
   "source": [
    "url_fb_update = 'http://localhost:5000/api/v1/incubator/resources/feedback/update'\n",
    "data = {'user_id':2,'feedback':'feedback may be considered as to improve the system deliberately'}\n",
    "res = requests.put(url=url_fb_update, json=data)\n",
    "res.json"
   ]
  },
  {
   "cell_type": "markdown",
   "metadata": {},
   "source": [
    "# Table: feedback (DELETE HTTP service)"
   ]
  },
  {
   "cell_type": "code",
   "execution_count": 59,
   "metadata": {},
   "outputs": [
    {
     "data": {
      "text/plain": [
       "<bound method Response.json of <Response [200]>>"
      ]
     },
     "execution_count": 59,
     "metadata": {},
     "output_type": "execute_result"
    }
   ],
   "source": [
    "url_fb_dele ='http://localhost:5000/api/v1/incubator/resources/feedback/delete/'\n",
    "id_ = '2'\n",
    "res = requests.delete(url=url_fb_dele+id_)\n",
    "res.json"
   ]
  },
  {
   "cell_type": "markdown",
   "metadata": {},
   "source": [
    "# Table: feedback (GET HTTP service)"
   ]
  },
  {
   "cell_type": "code",
   "execution_count": 61,
   "metadata": {},
   "outputs": [
    {
     "data": {
      "text/plain": [
       "<bound method Response.json of <Response [200]>>"
      ]
     },
     "execution_count": 61,
     "metadata": {},
     "output_type": "execute_result"
    }
   ],
   "source": [
    "url_fb_read = 'http://localhost:5000/api/v1/incubator/resources/feedback/read'\n",
    "res = requests.get(url_fb_read)\n",
    "res.json"
   ]
  },
  {
   "cell_type": "code",
   "execution_count": 62,
   "metadata": {},
   "outputs": [
    {
     "data": {
      "text/plain": [
       "[{'_sa_instance_state': '<sqlalchemy.orm.state.InstanceState object at 0x7f3cec7df450>',\n",
       "  'feedback': 'feedback may be considered as to improve the system',\n",
       "  'id': 2,\n",
       "  'user_id': 2}]"
      ]
     },
     "execution_count": 62,
     "metadata": {},
     "output_type": "execute_result"
    }
   ],
   "source": [
    "res.json()"
   ]
  },
  {
   "cell_type": "markdown",
   "metadata": {},
   "source": [
    "# Table: payment (POST HTTP service)"
   ]
  },
  {
   "cell_type": "code",
   "execution_count": 72,
   "metadata": {},
   "outputs": [
    {
     "data": {
      "text/plain": [
       "<bound method Response.json of <Response [200]>>"
      ]
     },
     "execution_count": 72,
     "metadata": {},
     "output_type": "execute_result"
    }
   ],
   "source": [
    "url_pay_insert = 'http://localhost:5000/api/v1/incubator/resources/payment/insert'\n",
    "data = {'user_id':2,'txn':'983hf9h34fw9','pay_amout':5634, 'status':1}\n",
    "res = requests.post(url=url_pay_insert, json=data)\n",
    "res.json"
   ]
  },
  {
   "cell_type": "markdown",
   "metadata": {},
   "source": [
    "# Table: payment (PUT HTTP service)"
   ]
  },
  {
   "cell_type": "code",
   "execution_count": 73,
   "metadata": {},
   "outputs": [
    {
     "data": {
      "text/plain": [
       "<bound method Response.json of <Response [200]>>"
      ]
     },
     "execution_count": 73,
     "metadata": {},
     "output_type": "execute_result"
    }
   ],
   "source": [
    "url_pay_update = 'http://localhost:5000/api/v1/incubator/resources/payment/update'\n",
    "data = {'user_id':2,'txn':'983hf9h34fw9','pay_amout':5634, 'status':0}\n",
    "res = requests.put(url=url_pay_update, json=data)\n",
    "res.json"
   ]
  },
  {
   "cell_type": "markdown",
   "metadata": {},
   "source": [
    "# Table: payment (DELETE HTTP service)"
   ]
  },
  {
   "cell_type": "code",
   "execution_count": 76,
   "metadata": {},
   "outputs": [
    {
     "data": {
      "text/plain": [
       "<bound method Response.json of <Response [200]>>"
      ]
     },
     "execution_count": 76,
     "metadata": {},
     "output_type": "execute_result"
    }
   ],
   "source": [
    "url_pay_dele ='http://localhost:5000/api/v1/incubator/resources/payment/delete/'\n",
    "id_ = '2'\n",
    "res = requests.delete(url=url_pay_dele+id_)\n",
    "res.json"
   ]
  },
  {
   "cell_type": "markdown",
   "metadata": {},
   "source": [
    "# Table: payment (GET HTTP service)"
   ]
  },
  {
   "cell_type": "code",
   "execution_count": 81,
   "metadata": {},
   "outputs": [
    {
     "data": {
      "text/plain": [
       "<bound method Response.json of <Response [200]>>"
      ]
     },
     "execution_count": 81,
     "metadata": {},
     "output_type": "execute_result"
    }
   ],
   "source": [
    "url_pay_read = 'http://localhost:5000/api/v1/incubator/resources/payment/read'\n",
    "res = requests.get(url_pay_read)\n",
    "res.json"
   ]
  },
  {
   "cell_type": "code",
   "execution_count": 82,
   "metadata": {},
   "outputs": [
    {
     "data": {
      "text/plain": [
       "[]"
      ]
     },
     "execution_count": 82,
     "metadata": {},
     "output_type": "execute_result"
    }
   ],
   "source": [
    "res.json()"
   ]
  },
  {
   "cell_type": "markdown",
   "metadata": {},
   "source": [
    "# Table: address (POST HTTP service)"
   ]
  },
  {
   "cell_type": "code",
   "execution_count": 88,
   "metadata": {},
   "outputs": [
    {
     "data": {
      "text/plain": [
       "<bound method Response.json of <Response [200]>>"
      ]
     },
     "execution_count": 88,
     "metadata": {},
     "output_type": "execute_result"
    }
   ],
   "source": [
    "url_addr_insert = 'http://localhost:5000/api/v1/incubator/resources/address/insert'\n",
    "data = {'user_id':2,'addr1':'Indiranagar', 'addr2':'Main Road 13', 'country':'India', 'state':'Karnataka', 'city':'Bangalore'}\n",
    "res = requests.post(url=url_addr_insert, json=data)\n",
    "res.json"
   ]
  },
  {
   "cell_type": "markdown",
   "metadata": {},
   "source": [
    "# Table: address (PUT HTTP service)"
   ]
  },
  {
   "cell_type": "code",
   "execution_count": 90,
   "metadata": {},
   "outputs": [
    {
     "data": {
      "text/plain": [
       "<bound method Response.json of <Response [200]>>"
      ]
     },
     "execution_count": 90,
     "metadata": {},
     "output_type": "execute_result"
    }
   ],
   "source": [
    "url_addr_update = 'http://localhost:5000/api/v1/incubator/resources/address/update'\n",
    "data = {'user_id':2,'addr1':'Indiranagar', 'addr2':'Main Road 13', 'country':'India', 'state':'Karnataka', 'city':'Bengaluru'}\n",
    "res = requests.put(url=url_addr_update, json=data)\n",
    "res.json"
   ]
  },
  {
   "cell_type": "markdown",
   "metadata": {},
   "source": [
    "# Table: address (DELETE HTTP service)"
   ]
  },
  {
   "cell_type": "code",
   "execution_count": 93,
   "metadata": {},
   "outputs": [
    {
     "data": {
      "text/plain": [
       "<bound method Response.json of <Response [200]>>"
      ]
     },
     "execution_count": 93,
     "metadata": {},
     "output_type": "execute_result"
    }
   ],
   "source": [
    "url_addr_dele ='http://localhost:5000/api/v1/incubator/resources/address/delete/'\n",
    "id_ = '2'\n",
    "res = requests.delete(url=url_addr_dele+id_)\n",
    "res.json"
   ]
  },
  {
   "cell_type": "markdown",
   "metadata": {},
   "source": [
    "# Table: address ( GET HTTP service)"
   ]
  },
  {
   "cell_type": "code",
   "execution_count": 95,
   "metadata": {},
   "outputs": [
    {
     "data": {
      "text/plain": [
       "<bound method Response.json of <Response [200]>>"
      ]
     },
     "execution_count": 95,
     "metadata": {},
     "output_type": "execute_result"
    }
   ],
   "source": [
    "url_addr_read = 'http://localhost:5000/api/v1/incubator/resources/address/read'\n",
    "res = requests.get(url_addr_read)\n",
    "res.json"
   ]
  },
  {
   "cell_type": "code",
   "execution_count": 96,
   "metadata": {},
   "outputs": [
    {
     "data": {
      "text/plain": [
       "[]"
      ]
     },
     "execution_count": 96,
     "metadata": {},
     "output_type": "execute_result"
    }
   ],
   "source": [
    "res.json()"
   ]
  },
  {
   "cell_type": "markdown",
   "metadata": {},
   "source": [
    "# Thank you"
   ]
  },
  {
   "cell_type": "markdown",
   "metadata": {},
   "source": [
    "<b>Author: </b><i>Hassan Bari Raza</i> <br>\n",
    "<strong>Date started: </strong><em>09/03/2020</em> <br>\n",
    "<strong>Date completed: </strong><em>11/03/2020</em>"
   ]
  }
 ],
 "metadata": {
  "file_extension": ".py",
  "kernelspec": {
   "display_name": "Python 3.7.4 64-bit ('my_env': venv)",
   "language": "python",
   "name": "python37464bitmyenvvenv0e7ecc363f8446f38a15f550eb065b72"
  },
  "language_info": {
   "codemirror_mode": {
    "name": "ipython",
    "version": 3
   },
   "file_extension": ".py",
   "mimetype": "text/x-python",
   "name": "python",
   "nbconvert_exporter": "python",
   "pygments_lexer": "ipython3",
   "version": "3.7.4"
  },
  "mimetype": "text/x-python",
  "name": "python",
  "npconvert_exporter": "python",
  "pygments_lexer": "ipython3",
  "version": 3
 },
 "nbformat": 4,
 "nbformat_minor": 2
}
