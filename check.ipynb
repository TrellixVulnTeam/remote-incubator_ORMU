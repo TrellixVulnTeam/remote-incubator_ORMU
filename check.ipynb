{
 "cells": [
  {
   "cell_type": "code",
   "execution_count": 1,
   "metadata": {},
   "outputs": [
    {
     "name": "stdout",
     "output_type": "stream",
     "text": [
      "REmote Incubator\n"
     ]
    }
   ],
   "source": [
    "print(\"REmote Incubator\")"
   ]
  },
  {
   "cell_type": "code",
   "execution_count": 1,
   "metadata": {},
   "outputs": [],
   "source": [
    "import requests"
   ]
  },
  {
   "cell_type": "code",
   "execution_count": 5,
   "metadata": {},
   "outputs": [
    {
     "name": "stdout",
     "output_type": "stream",
     "text": [
      "<bound method Response.json of <Response [500]>>\n"
     ]
    }
   ],
   "source": [
    "# Insertion into database (user table and login table)\n",
    "data = {'name':\"jacky\",\"p\":\"ioahsdo\",\"contact\":4329,\"email\":\"srthd@gmail.com\",\"com\":\"fametronix\",\"d\":\"ml\",\"w\":\"because\",\"addr\":\"bokaro\"}\n",
    "res = requests.post(url='http://localhost:5000/api/v1/incubator/resources/user/registration/create',json=data)\n",
    "print(res.json)"
   ]
  },
  {
   "cell_type": "code",
   "execution_count": 24,
   "metadata": {},
   "outputs": [
    {
     "data": {
      "text/plain": [
       "<bound method Response.json of <Response [500]>>"
      ]
     },
     "execution_count": 24,
     "metadata": {},
     "output_type": "execute_result"
    }
   ],
   "source": [
    "# Update password\n",
    "data = {'psd':'abracadabra'}\n",
    "emailID = 'srthd@gmail.com'\n",
    "uri_update_psd = 'http://localhost:5000/api/v1/incubator/resources/user/registration/update/'\n",
    "res = requests.put(url=uri_update_psd+emailID, json=data)\n",
    "res.json"
   ]
  },
  {
   "cell_type": "code",
   "execution_count": 26,
   "metadata": {},
   "outputs": [
    {
     "data": {
      "text/plain": [
       "<bound method Response.json of <Response [200]>>"
      ]
     },
     "execution_count": 26,
     "metadata": {},
     "output_type": "execute_result"
    }
   ],
   "source": [
    "# table: document (insert)\n",
    "url_doc_insert = 'http://localhost:5000/api/v1/incubator/resources/document/insert'\n",
    "data = {'video_name':'jgas.mp4', 'doc':'.assests/doc/imp/abc.pdf'}\n",
    "res = requests.post(url=url_doc_insert, json=data)\n",
    "res.json"
   ]
  },
  {
   "cell_type": "code",
   "execution_count": 46,
   "metadata": {},
   "outputs": [
    {
     "data": {
      "text/plain": [
       "<bound method Response.json of <Response [200]>>"
      ]
     },
     "execution_count": 46,
     "metadata": {},
     "output_type": "execute_result"
    }
   ],
   "source": [
    "# table: document (update)\n",
    "url_doc_update = 'http://localhost:5000/api/v1/incubator/resources/document/update'\n",
    "data = {'video_name':'jgas.mp4', 'doc_path':'.assests/doc/imp/xyz.pdf'}\n",
    "res =requests.put(url=url_doc_update, json=data)\n",
    "res.json"
   ]
  },
  {
   "cell_type": "code",
   "execution_count": 34,
   "metadata": {},
   "outputs": [
    {
     "name": "stdout",
     "output_type": "stream",
     "text": [
      "hello\n"
     ]
    }
   ],
   "source": [
    "print(\"hello\")"
   ]
  },
  {
   "cell_type": "code",
   "execution_count": null,
   "metadata": {},
   "outputs": [],
   "source": []
  },
  {
   "cell_type": "code",
   "execution_count": 8,
   "metadata": {},
   "outputs": [
    {
     "name": "stdout",
     "output_type": "stream",
     "text": [
      "<bound method Response.json of <Response [200]>>\n"
     ]
    }
   ],
   "source": [
    "# Insertion into database (video table and document table)\n",
    "uri = 'http://localhost:5000/api/v1/incubator/resources/video/create'\n",
    "data = {'video_name':'lmn.mp4',\n",
    "    'video_url':'.assests/video/jafids.mp4',\n",
    "    'description':'jiogajsd nuaensf iuiew',\n",
    "    'category':'funny'}\n",
    "res = requests.post(url=uri,json=data)\n",
    "print(res.json)"
   ]
  },
  {
   "cell_type": "code",
   "execution_count": null,
   "metadata": {},
   "outputs": [],
   "source": [
    "uri_update = 'http://localhost:5000/api/v1/incubator/resources/video/update/1'\n",
    "res = requests.put(url=uri_update, data={'category':'sad'})\n",
    "print(res.json)"
   ]
  },
  {
   "cell_type": "code",
   "execution_count": 13,
   "metadata": {},
   "outputs": [
    {
     "data": {
      "text/plain": [
       "<bound method Response.json of <Response [500]>>"
      ]
     },
     "execution_count": 13,
     "metadata": {},
     "output_type": "execute_result"
    }
   ],
   "source": [
    "## get video table from database\n",
    "url_get_video = 'http://localhost:5000/api/v1/incubator/resources/video/read'\n",
    "res = requests.get(url=url_get_video)\n",
    "res.json"
   ]
  },
  {
   "cell_type": "code",
   "execution_count": null,
   "metadata": {},
   "outputs": [],
   "source": []
  },
  {
   "cell_type": "code",
   "execution_count": null,
   "metadata": {},
   "outputs": [],
   "source": []
  },
  {
   "cell_type": "code",
   "execution_count": null,
   "metadata": {},
   "outputs": [],
   "source": []
  }
 ],
 "metadata": {
  "file_extension": ".py",
  "kernelspec": {
   "display_name": "Python 3.7.4 64-bit ('my_env': venv)",
   "language": "python",
   "name": "python37464bitmyenvvenv0e7ecc363f8446f38a15f550eb065b72"
  },
  "language_info": {
   "codemirror_mode": {
    "name": "ipython",
    "version": 3
   },
   "file_extension": ".py",
   "mimetype": "text/x-python",
   "name": "python",
   "nbconvert_exporter": "python",
   "pygments_lexer": "ipython3",
   "version": "3.7.4"
  },
  "mimetype": "text/x-python",
  "name": "python",
  "npconvert_exporter": "python",
  "pygments_lexer": "ipython3",
  "version": 3
 },
 "nbformat": 4,
 "nbformat_minor": 2
}
