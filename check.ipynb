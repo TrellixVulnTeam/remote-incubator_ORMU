{
 "nbformat": 4,
 "nbformat_minor": 2,
 "metadata": {
  "language_info": {
   "name": "python",
   "codemirror_mode": {
    "name": "ipython",
    "version": 3
   },
   "version": "3.7.4-final"
  },
  "orig_nbformat": 2,
  "file_extension": ".py",
  "mimetype": "text/x-python",
  "name": "python",
  "npconvert_exporter": "python",
  "pygments_lexer": "ipython3",
  "version": 3,
  "kernelspec": {
   "name": "python37464bitmyenvvenv0e7ecc363f8446f38a15f550eb065b72",
   "display_name": "Python 3.7.4 64-bit ('my_env': venv)"
  }
 },
 "cells": [
  {
   "cell_type": "code",
   "execution_count": 1,
   "metadata": {},
   "outputs": [
    {
     "name": "stdout",
     "output_type": "stream",
     "text": "REmote Incubator\n"
    }
   ],
   "source": [
    "print(\"REmote Incubator\")"
   ]
  },
  {
   "cell_type": "code",
   "execution_count": 3,
   "metadata": {},
   "outputs": [],
   "source": [
    "import requests"
   ]
  },
  {
   "cell_type": "code",
   "execution_count": 53,
   "metadata": {},
   "outputs": [
    {
     "name": "stdout",
     "output_type": "stream",
     "text": "<bound method Response.json of <Response [200]>>\n"
    }
   ],
   "source": [
    "# Insertion into database (user table and login table)\n",
    "data = {'name':\"jacky\",\"p\":\"ioahsdo\",\"contact\":4329,\"email\":\"srthd@gmail.com\",\"com\":\"fametronix\",\"d\":\"ml\",\"w\":\"because\",\"addr\":\"bokaro\"}\n",
    "res = requests.post(url='http://localhost:5000/api/v1/incubator/resources/user/registration/create',json=data)\n",
    "print(res.json)"
   ]
  },
  {
   "cell_type": "code",
   "execution_count": null,
   "metadata": {},
   "outputs": [],
   "source": [
    "# Insertion into database (video table and document table)\n",
    "uri = 'http://localhost:5000/api/v1/incubator/resources/video/create'\n",
    "data = {}"
   ]
  }
 ]
}